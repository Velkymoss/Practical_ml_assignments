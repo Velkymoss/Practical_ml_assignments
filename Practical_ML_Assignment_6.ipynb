{
 "cells": [
  {
   "cell_type": "markdown",
   "metadata": {},
   "source": [
    "<img src=\"https://communications.univie.ac.at/fileadmin/_processed_/csm_Uni_Logo_2016_2f47aacf37.jpg\" \n",
    "     alt=\"Logo Universität Wien\" \n",
    "     width=\"200\"/>\n",
    "\n",
    "# Practical Machine Learning for Natural Language Processing - 2023 SS  \n",
    "\n",
    "### Assigment 2 - Generators and Classes   \n",
    "\n",
    "In this assigment we are going to play with generators and instances/classes - structures that retain state.  "
   ]
  },
  {
   "cell_type": "markdown",
   "metadata": {},
   "source": [
    "***"
   ]
  },
  {
   "cell_type": "markdown",
   "metadata": {},
   "source": [
    "### 1. Alea Iacta Est  \n",
    "\n",
    "(a) Using [generator functions](https://github.com/rsouza/Python_Course/blob/master/Notebooks/Python_Basic/03_Functions.ipynb), create an object that emulates an eight-sided dice (1-8) that is biased, such that the probability of this generator function returning a certain value is proportional to the value itself (i.e. the face \"6\" is 3 times more likely to come out than face \"2\");  \n",
    "\n",
    " <img src=\"https://cdn11.bigcommerce.com/s-70184/images/stencil/608x608/products/532/7428/d8-dice-blue__64321.1664335674.jpg\" alt=\"8-Dice\" style=\"width:250px;height:300px;\"> \n",
    "\n",
    "(b) Using [Matplotlib](https://matplotlib.org/) plt.plot or plt.hist commands, show graphically the result of 10000 casts of the die;  \n",
    "\n",
    "(c) Modify this generator function so that it terminates automatically when all possible values (1,2,3,4,5,6,7,8) have been cast at least once. In this case, it will return the total absolute time that has elapsed since the first iteration.  (hint: a function can have both **return** and **yield** commands)  "
   ]
  },
  {
   "cell_type": "markdown",
   "metadata": {},
   "source": [
    "https://pynative.com/python-weighted-random-choices-with-probability/"
   ]
  },
  {
   "cell_type": "code",
   "execution_count": 1,
   "metadata": {},
   "outputs": [
    {
     "name": "stdout",
     "output_type": "stream",
     "text": [
      "8\n",
      "2\n",
      "6\n",
      "7\n",
      "1\n",
      "8\n",
      "7\n",
      "7\n",
      "5\n",
      "3\n"
     ]
    }
   ],
   "source": [
    "# a)\n",
    "import random\n",
    "\n",
    "def alea_lacta_est(sides):\n",
    "    \n",
    "    values = [*range(1, sides+1)]\n",
    "    n = sum(values)\n",
    "    probabilities = [i/n for i in range(1, sides+1)]\n",
    "    \n",
    "    while True:\n",
    "        roll = random.choices(values, weights = probabilities, k = 1)\n",
    "        yield roll[0]\n",
    "        \n",
    "for i in range(0, 10):\n",
    "    print(next(alea_lacta_est(8)))"
   ]
  },
  {
   "cell_type": "code",
   "execution_count": 12,
   "metadata": {},
   "outputs": [
    {
     "data": {
      "image/png": "[encoded data removed]",
      "text/plain": [
       "<Figure size 640x480 with 1 Axes>"
      ]
     },
     "metadata": {},
     "output_type": "display_data"
    }
   ],
   "source": [
    "# b)\n",
    "import collections\n",
    "import itertools\n",
    "from matplotlib import pyplot as plt\n",
    "\n",
    "casts = [next(alea_lacta_est(8)) for i in range(0, 1000)]\n",
    "casts = collections.Counter(casts)\n",
    "casts = {k: v for k, v in sorted(casts.items(), key = lambda item: item[1])}\n",
    "\n",
    "barplot = plt.bar(range(len(casts)), list(casts.values()), align = 'center')\n",
    "plt.xticks(range(len(casts)), list(casts.keys()))\n",
    "\n",
    "plt.title('Rolling a biased D8 1000 times', fontsize=15)\n",
    "plt.xlabel('value')\n",
    "plt.ylabel('absolute frequency')\n",
    "plt.bar_label(barplot, labels = list(casts.values()), label_type = 'edge', padding = 2, fontsize = 9)\n",
    "plt.ylim([0, 260])\n",
    "\n",
    "plt.show()"
   ]
  },
  {
   "cell_type": "code",
   "execution_count": 13,
   "metadata": {},
   "outputs": [],
   "source": [
    "# c)\n",
    "import random\n",
    "import time\n",
    "\n",
    "def modified(sides, casts, output = False):\n",
    "    now = time.time()\n",
    "    \n",
    "    def alea_lacta_est(sides):\n",
    "        values = [*range(1, sides+1)]\n",
    "        n = sum(values)\n",
    "        probabilities = [i/n for i in range(1, sides+1)]\n",
    "        while True:\n",
    "            roll = random.choices(values, weights = probabilities, k = 1)\n",
    "            yield roll[0]\n",
    "    \n",
    "    possible_values = [*range(1, sides+1)]\n",
    "    terminate = []\n",
    "    for i in range(0, casts):\n",
    "        if all(item in terminate for item in possible_values):\n",
    "            break\n",
    "        else: \n",
    "            cast = next(alea_lacta_est(8))\n",
    "            terminate.append(cast)\n",
    "            if output:\n",
    "                print(cast)\n",
    "    \n",
    "    return (time.time() - now)"
   ]
  },
  {
   "cell_type": "code",
   "execution_count": 11,
   "metadata": {},
   "outputs": [
    {
     "data": {
      "text/plain": [
       "0.0007138252258300781"
      ]
     },
     "execution_count": 11,
     "metadata": {},
     "output_type": "execute_result"
    }
   ],
   "source": [
    "modified(8, 1000)"
   ]
  },
  {
   "cell_type": "markdown",
   "metadata": {},
   "source": [
    "### 2. A ticket to the first Class    \n",
    "\n",
    "+ Create a Class called \"Elevator\". Each instance of this class receives as parameters the number of floors in the building and starts the elevator on the lowest floor.  \n",
    "+ This Class should have methods and properties to allow the elevator to:\n",
    "<br></br>\n",
    "    + Receive a call - user(s) press a button to go to specific floor(s);  \n",
    "    + Receive a floor as a destination - when users enter the elevator, each one may press a button to choose destination floor;  \n",
    "    + Store and inform which floor the elevator is at each moment(consider that trips for consecutive floors takes 5 seconds, and stopping takes 10 seconds);  \n",
    "    + Store and inform which users are in the elevator;  \n",
    "    + Store and inform the sequence of floors yet to be visited;  \n",
    "    + Store the number of times the elevator stopped in each floor (passing through the floor without \"stopping\" on the floor does not count);  \n",
    "    + Refuses commands to go to inexistent floors.  \n",
    "<br></br>\n",
    "+ Simulate the behavior of the elevator serving ten users, each one calling from a random floor, and chosing a random destination floor.   \n",
    "+ Graphically illustrate the current elevator position for the requested simulation.   \n",
    "+ (BONUS) Create a smart building simulator, controlling calls made to n > 1 elevators and routing elevator properly.  "
   ]
  },
  {
   "cell_type": "code",
   "execution_count": 6,
   "metadata": {},
   "outputs": [],
   "source": [
    "import time\n",
    "\n",
    "class Elevator:\n",
    "    def __init__(self, num_floors):\n",
    "        self.num_floors = num_floors\n",
    "        self.sequence_floors = {floor: False for floor in range(1, num_floors+1)}\n",
    "        self.users = []\n",
    "        self.floor_counter = {floor: 0 for floor in range(1, num_floors+1)}\n",
    "        self.current_floor = 1\n",
    "        self.max_floor = 1\n",
    "        self.lowest_floor = 1\n",
    "        self.mode_up = True\n",
    "        self.num_users = 0\n",
    "    \n",
    "\n",
    "    def update_max(self):\n",
    "        if all(value == False for value in self.sequence_floors.values()) == True:\n",
    "            self.max_floor = 0\n",
    "        else:\n",
    "            self.max_floor =  max([i for i in self.sequence_floors.items() if i[1] == True])[0]\n",
    "\n",
    "    \n",
    "    def update_lowest(self):\n",
    "        if all(value == False for value in self.sequence_floors.values()) == True:\n",
    "            self.lowest_floor = 0\n",
    "        else:\n",
    "            self.lowest_floor =  min([i for i in self.sequence_floors.items() if i[1] == True])[0]\n",
    "            \n",
    "    \n",
    "    def receive_call(self, floor):\n",
    "        if floor == self.current_floor:\n",
    "            print(f'Elevator already at floor number {floor}')\n",
    "        else: \n",
    "            if self.sequence_floors.get(floor) is not None:\n",
    "                self.sequence_floors.update({floor: True})\n",
    "                self.update_max()\n",
    "                self.update_lowest()\n",
    "            else:\n",
    "                print(f'Floor {floor} does not exist in the building. Please enter a valid floor number.')\n",
    "            \n",
    "            \n",
    "    def receive_destinations(self, floors):\n",
    "        for floor in floors:\n",
    "            if self.sequence_floors.get(floor) is not None:\n",
    "                self.sequence_floors.update({floor: True})\n",
    "                self.users.append(floor)\n",
    "                self.num_users = len(self.users)\n",
    "            elif floor == self.current_floor:\n",
    "                print('Elevator already at desired floor.')\n",
    "        else:\n",
    "            print(f'Floor {floor} does not exist in the building. Please enter a valid floor number.')\n",
    "        self.update_max()\n",
    "        self.update_lowest()\n",
    "        \n",
    "         \n",
    "    def stop(self, key):\n",
    "        # update current floor\n",
    "        self.current_floor = key\n",
    "        print(f'Current floor: {self.current_floor}')\n",
    "        # setting passed floor value to false\n",
    "        self.sequence_floors[key] = False\n",
    "        # removing dropping out users \n",
    "        self.users = [floor for floor in self.users if floor != key]\n",
    "        self.num_users = len(self.users)\n",
    "        \n",
    "    \n",
    "    def travel(self, break_floor = None):\n",
    "\n",
    "        if self.mode_up == True:\n",
    "            # update sequence of floors in ascending order\n",
    "            for key in range(self.current_floor + 1, self.max_floor + 1):\n",
    "                # travelling to consecutive floor\n",
    "                time.sleep(5)\n",
    "                \n",
    "                if self.current_floor == break_floor:\n",
    "                    break\n",
    "\n",
    "                # elevator stops if floor is true\n",
    "                elif self.sequence_floors[key] == True:\n",
    "                    self.stop(key)\n",
    "                    self.floor_counter[key] += 1\n",
    "                    time.sleep(10)\n",
    "\n",
    "                # elevator passes floor if floor is false\n",
    "                else:\n",
    "                    # update current floor\n",
    "                    self.current_floor = key\n",
    "                    print(f'Current floor: {self.current_floor}')\n",
    "\n",
    "            # updating max and lowest floors to vistit\n",
    "            self.update_max()\n",
    "            self.update_lowest()\n",
    "            # print floors to visit\n",
    "            print(f'Floors to visit: {self.sequence_floors}')\n",
    "            # switching mode of elevator\n",
    "            self.mode_up = False\n",
    "            print(f'Switch mode_up to {self.mode_up}')\n",
    "\n",
    "\n",
    "        else:\n",
    "            # update sequence of floors in descending order\n",
    "            for key in range(self.current_floor - 1, self.lowest_floor - 1, -1):\n",
    "                # travelling to consecutive floor\n",
    "                time.sleep(5)\n",
    "\n",
    "                if self.current_floor == break_floor:\n",
    "                    break\n",
    "                \n",
    "                # elevator stops if floor is true\n",
    "                elif self.sequence_floors[key] == True:\n",
    "                    self.stop(key)\n",
    "                    self.floor_counter[key] += 1\n",
    "                    time.sleep(10)\n",
    "\n",
    "                # elevator passes floor if floor is false\n",
    "                else:\n",
    "                    # update current floor\n",
    "                    self.current_floor = key\n",
    "                    print(f'Current floor: {self.current_floor}')\n",
    "\n",
    "            # updating max and lowest floors to vistit\n",
    "            self.update_max()\n",
    "            self.update_lowest()\n",
    "            # print floors to visit\n",
    "            print(f'Floors to visit: {self.sequence_floors}')\n",
    "            # switching mode of elevator\n",
    "            self.mode_up = True\n",
    "            print(f'Switch mode_up to {self.mode_up}')\n",
    "            \n",
    "    \n",
    "    def run_elevator(self, break_floor = None):\n",
    "        if self.mode_up == False and self.current_floor == 1:\n",
    "            self.mode_up = True\n",
    "            self.travel()\n",
    "\n",
    "        elif mode_up == True and self.current_floor == num_floors:\n",
    "            self.mode_up = False\n",
    "            self.travel()\n",
    "\n",
    "        else:\n",
    "            self.travel()"
   ]
  },
  {
   "cell_type": "code",
   "execution_count": null,
   "metadata": {},
   "outputs": [],
   "source": []
  },
  {
   "cell_type": "code",
   "execution_count": null,
   "metadata": {},
   "outputs": [],
   "source": []
  }
 ],
 "metadata": {
  "kernelspec": {
   "display_name": "Python 3 (ipykernel)",
   "language": "python",
   "name": "python3"
  },
  "language_info": {
   "codemirror_mode": {
    "name": "ipython",
    "version": 3
   },
   "file_extension": ".py",
   "mimetype": "text/x-python",
   "name": "python",
   "nbconvert_exporter": "python",
   "pygments_lexer": "ipython3",
   "version": "3.9.13"
  }
 },
 "nbformat": 4,
 "nbformat_minor": 4
}
