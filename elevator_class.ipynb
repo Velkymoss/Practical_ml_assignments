{
 "cells": [
  {
   "cell_type": "code",
   "execution_count": 21,
   "id": "f1009826-1038-4d9c-b287-3c68e889ad20",
   "metadata": {},
   "outputs": [],
   "source": [
    "import time"
   ]
  },
  {
   "cell_type": "code",
   "execution_count": 22,
   "id": "1bfff2e7-9d05-4a51-9927-e02e3b75722d",
   "metadata": {},
   "outputs": [],
   "source": [
    "def update_max(sequence_floors):\n",
    "    if all(value == False for value in sequence_floors.values()) == True:\n",
    "        return 0\n",
    "    else:\n",
    "        return max([i for i in sequence_floors.items() if i[1] == True])[0]\n",
    "\n",
    "def update_lowest(sequence_floors):\n",
    "    if all(value == False for value in sequence_floors.values()) == True:\n",
    "        return 0\n",
    "    else:\n",
    "        return min([i for i in sequence_floors.items() if i[1] == True])[0]\n",
    "    \n",
    "def receive_call(floor, sequence_floors):\n",
    "    return sequence_floors.update({floor: True})\n",
    "    \n",
    "    \n",
    "def receive_destinations(floors, sequence_floors, users):\n",
    "    for floor in floors:\n",
    "        sequence_floors.update({floor: True})\n",
    "        users.append(floor)\n",
    "    return sequence_floors, users  "
   ]
  },
  {
   "cell_type": "code",
   "execution_count": 27,
   "id": "bd9a499b-7b4c-47ad-8bd8-70e357cfcaab",
   "metadata": {},
   "outputs": [],
   "source": [
    "sequence_floors = {1:True, 2:False, 3:True, 4:False, 5:True}\n",
    "users = []\n",
    "floor_counter = {1:0, 2:0, 3:0, 4:0, 5:0}\n",
    "\n",
    "current_floor = 2\n",
    "max_floor = update_max(sequence_floors)\n",
    "lowest_floor = update_lowest(sequence_floors)\n",
    "\n",
    "mode_up = True\n",
    "\n",
    "#building_floors = 5"
   ]
  },
  {
   "cell_type": "code",
   "execution_count": 29,
   "id": "43b8cef5-8950-4650-b437-88fd012143c5",
   "metadata": {},
   "outputs": [
    {
     "name": "stdout",
     "output_type": "stream",
     "text": [
      "Current floor: 4\n",
      "Current floor: 3\n",
      "Current floor: 2\n",
      "Current floor: 1\n",
      "Floors to visit: {1: False, 2: False, 3: False, 4: False, 5: False}\n",
      "Switch mode_up to True\n"
     ]
    }
   ],
   "source": [
    "if mode_up == True:\n",
    "    # update sequence of floors in ascending order\n",
    "    for key in range(current_floor + 1, max_floor + 1):\n",
    "        # travelling to consecutive floor\n",
    "        time.sleep(5)\n",
    "        \n",
    "        # elevator stops if floor is true\n",
    "        if sequence_floors[key] == True:\n",
    "            # update current floor\n",
    "            current_floor = key\n",
    "            print(f'Current floor: {current_floor}')\n",
    "            # setting passed floor values to false\n",
    "            sequence_floors[key] = False\n",
    "            # stopping for 10 seconds\n",
    "            time.sleep(10)\n",
    "            \n",
    "        # elevator passes floor if floor is false\n",
    "        else:\n",
    "            # update current floor\n",
    "            current_floor = key\n",
    "            print(f'Current floor: {current_floor}')\n",
    "            \n",
    "    # updating max and lowest floors to vistit\n",
    "    max_floor = update_max(sequence_floors)\n",
    "    lowest_floor = update_lowest(sequence_floors)\n",
    "    # print floors to visit\n",
    "    print(f'Floors to visit: {sequence_floors}')\n",
    "    # switching mode of elevator\n",
    "    mode_up = False\n",
    "    print(f'Switch mode_up to {mode_up}')\n",
    "\n",
    "\n",
    "else:\n",
    "    # update sequence of floors in descending order\n",
    "    for key in range(current_floor - 1, lowest_floor - 1, -1):\n",
    "        # travelling to consecutive floor\n",
    "        time.sleep(5)\n",
    "        \n",
    "        # elevator stops if floor is true\n",
    "        if sequence_floors[key] == True:\n",
    "            # update current floor\n",
    "            current_floor = key\n",
    "            print(f'Current floor: {current_floor}')\n",
    "            # setting passed floor values to false\n",
    "            sequence_floors[key] = False\n",
    "            # stopping for 10 seconds\n",
    "            time.sleep(10)\n",
    "            \n",
    "        # elevator passes floor if floor is false\n",
    "        else:\n",
    "            # update current floor\n",
    "            current_floor = key\n",
    "            print(f'Current floor: {current_floor}')\n",
    "            \n",
    "    # updating max and lowest floors to vistit\n",
    "    max_floor = update_max(sequence_floors)\n",
    "    lowest_floor = update_lowest(sequence_floors)\n",
    "    # print floors to visit\n",
    "    print(f'Floors to visit: {sequence_floors}')\n",
    "    # switching mode of elevator\n",
    "    mode_up = True\n",
    "    print(f'Switch mode_up to {mode_up}')"
   ]
  },
  {
   "cell_type": "code",
   "execution_count": null,
   "id": "d46372a3-0d06-45ce-978e-209f38e171a2",
   "metadata": {},
   "outputs": [],
   "source": []
  }
 ],
 "metadata": {
  "kernelspec": {
   "display_name": "Python 3 (ipykernel)",
   "language": "python",
   "name": "python3"
  },
  "language_info": {
   "codemirror_mode": {
    "name": "ipython",
    "version": 3
   },
   "file_extension": ".py",
   "mimetype": "text/x-python",
   "name": "python",
   "nbconvert_exporter": "python",
   "pygments_lexer": "ipython3",
   "version": "3.9.13"
  }
 },
 "nbformat": 4,
 "nbformat_minor": 5
}
