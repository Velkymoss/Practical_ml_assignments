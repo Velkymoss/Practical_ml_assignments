{
 "cells": [
  {
   "cell_type": "code",
   "execution_count": 1,
   "id": "f1009826-1038-4d9c-b287-3c68e889ad20",
   "metadata": {},
   "outputs": [],
   "source": [
    "import time"
   ]
  },
  {
   "cell_type": "code",
   "execution_count": 2,
   "id": "1bfff2e7-9d05-4a51-9927-e02e3b75722d",
   "metadata": {},
   "outputs": [],
   "source": [
    "def update_max(sequence_floors):\n",
    "    if all(value == False for value in sequence_floors.values()) == True:\n",
    "        return 0\n",
    "    else:\n",
    "        return max([i for i in sequence_floors.items() if i[1] == True])[0]\n",
    "\n",
    "def update_lowest(sequence_floors):\n",
    "    if all(value == False for value in sequence_floors.values()) == True:\n",
    "        return 0\n",
    "    else:\n",
    "        return min([i for i in sequence_floors.items() if i[1] == True])[0]\n",
    "    \n",
    "def receive_call(floor, sequence_floors, max_floor, lowest_floor):\n",
    "    sequence_floors.update({floor: True})\n",
    "    max_floor = update_max(sequence_floors)\n",
    "    lowest_floor = update_lowest(sequence_floors)\n",
    "    return sequence_floors, max_floor, lowest_floor\n",
    "        \n",
    "def receive_destinations(floors, sequence_floors, users, max_floor, lowest_floor):\n",
    "    for floor in floors:\n",
    "        sequence_floors.update({floor: True})\n",
    "        users.append(floor)\n",
    "    max_floor = update_max(sequence_floors)\n",
    "    lowest_floor = update_lowest(sequence_floors)\n",
    "    return sequence_floors, users, max_floor, lowest_floor\n",
    "\n",
    "def stop(sequence_floors, key, users):\n",
    "    # update current floor\n",
    "    current_floor = key\n",
    "    print(f'Current floor: {current_floor}')\n",
    "    # setting passed floor value to false\n",
    "    sequence_floors[key] = False\n",
    "    # removing dropping out users \n",
    "    users = [floor for floor in users if floor != key]\n",
    "    return sequence_floors, current_floor, users"
   ]
  },
  {
   "cell_type": "code",
   "execution_count": 10,
   "id": "bd9a499b-7b4c-47ad-8bd8-70e357cfcaab",
   "metadata": {},
   "outputs": [],
   "source": [
    "sequence_floors = {1:True, 2:False, 3:True, 4:False, 5:True}\n",
    "users = []\n",
    "floor_counter = {1:0, 2:0, 3:0, 4:0, 5:0}\n",
    "\n",
    "current_floor = 2\n",
    "max_floor = update_max(sequence_floors)\n",
    "lowest_floor = update_lowest(sequence_floors)\n",
    "\n",
    "mode_up = True\n",
    "\n",
    "#building_floors = 5"
   ]
  },
  {
   "cell_type": "code",
   "execution_count": 11,
   "id": "43b8cef5-8950-4650-b437-88fd012143c5",
   "metadata": {},
   "outputs": [
    {
     "name": "stdout",
     "output_type": "stream",
     "text": [
      "Current floor: 3\n",
      "{1: True, 2: False, 3: False, 4: False, 5: True}\n",
      "Current floor: 4\n",
      "Current floor: 5\n",
      "{1: True, 2: False, 3: False, 4: False, 5: False}\n",
      "Floors to visit: {1: True, 2: False, 3: False, 4: False, 5: False}\n",
      "Switch mode_up to False\n"
     ]
    }
   ],
   "source": [
    "if mode_up == True:\n",
    "    # update sequence of floors in ascending order\n",
    "    for key in range(current_floor + 1, max_floor + 1):\n",
    "        # travelling to consecutive floor\n",
    "        time.sleep(5)\n",
    "        \n",
    "        # elevator stops if floor is true\n",
    "        if sequence_floors[key] == True:\n",
    "            sequence_floors, current_floor, users = stop(sequence_floors, key, users)\n",
    "            time.sleep(10)\n",
    "            \n",
    "        # elevator passes floor if floor is false\n",
    "        else:\n",
    "            # update current floor\n",
    "            current_floor = key\n",
    "            print(f'Current floor: {current_floor}')\n",
    "            \n",
    "    # updating max and lowest floors to vistit\n",
    "    max_floor = update_max(sequence_floors)\n",
    "    lowest_floor = update_lowest(sequence_floors)\n",
    "    # print floors to visit\n",
    "    print(f'Floors to visit: {sequence_floors}')\n",
    "    # switching mode of elevator\n",
    "    mode_up = False\n",
    "    print(f'Switch mode_up to {mode_up}')\n",
    "\n",
    "\n",
    "else:\n",
    "    # update sequence of floors in descending order\n",
    "    for key in range(current_floor - 1, lowest_floor - 1, -1):\n",
    "        # travelling to consecutive floor\n",
    "        time.sleep(5)\n",
    "        \n",
    "        # elevator stops if floor is true\n",
    "        if sequence_floors[key] == True:\n",
    "            sequence_floors, current_floor, users = stop(sequence_floors, key, users)\n",
    "            time.sleep(10)\n",
    "            \n",
    "        # elevator passes floor if floor is false\n",
    "        else:\n",
    "            # update current floor\n",
    "            current_floor = key\n",
    "            print(f'Current floor: {current_floor}')\n",
    "            \n",
    "    # updating max and lowest floors to vistit\n",
    "    max_floor = update_max(sequence_floors)\n",
    "    lowest_floor = update_lowest(sequence_floors)\n",
    "    # print floors to visit\n",
    "    print(f'Floors to visit: {sequence_floors}')\n",
    "    # switching mode of elevator\n",
    "    mode_up = True\n",
    "    print(f'Switch mode_up to {mode_up}')"
   ]
  },
  {
   "cell_type": "code",
   "execution_count": null,
   "id": "bdc92aeb-9dc7-4ebe-896e-711beedb98b9",
   "metadata": {},
   "outputs": [],
   "source": []
  }
 ],
 "metadata": {
  "kernelspec": {
   "display_name": "Python 3 (ipykernel)",
   "language": "python",
   "name": "python3"
  },
  "language_info": {
   "codemirror_mode": {
    "name": "ipython",
    "version": 3
   },
   "file_extension": ".py",
   "mimetype": "text/x-python",
   "name": "python",
   "nbconvert_exporter": "python",
   "pygments_lexer": "ipython3",
   "version": "3.9.13"
  }
 },
 "nbformat": 4,
 "nbformat_minor": 5
}
